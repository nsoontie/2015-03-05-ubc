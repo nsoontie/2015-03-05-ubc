{
 "metadata": {
  "name": "",
  "signature": "sha256:e5adadc26e2cbc37038dfadb2f0977134a49081818b43374fada9c8af98fdf57"
 },
 "nbformat": 3,
 "nbformat_minor": 0,
 "worksheets": [
  {
   "cells": [
    {
     "cell_type": "code",
     "collapsed": false,
     "input": [
      "##Regular expressions are patterns that match text.\n",
      "\n",
      "##Let's load in our text from the notebook-1.txt and notebook-2.txt files\n",
      "\n",
      "##Initialize a variable to hold the text\n",
      "readings = []\n",
      "\n",
      "##Create a loop to read in each notebook-*.txt file\n",
      "for filename in ('notebook-1.txt', 'notebook-2.txt'):\n",
      "    \n",
      "    ##read() to \"read\" the strings\n",
      "    ##\n",
      "    ##strip() to remove leading and trailing whitespace\n",
      "    ##\n",
      "    ##split('\\n') to add the newline character to the end of each \n",
      "    ##line to have each line of text\n",
      "    ##be stored as a separate item in the list. If this is not done\n",
      "    ##then the list will only contain 2 items, the first will be \n",
      "    ##all of the text from notebook-1.txt and the second will be \n",
      "    ##all of the text from notebook-2.txt\n",
      "    lines = open(filename, 'r').read().strip().split('\\n')\n",
      "    \n",
      "    ##Each time through the loop we add all the lines from each \n",
      "    ##notebook to readings\n",
      "    readings += lines[:]\n",
      "\n",
      "##Loop through each item in readings and print it to the screen\n",
      "for r in readings:\n",
      "    print r"
     ],
     "language": "python",
     "metadata": {},
     "outputs": [
      {
       "output_type": "stream",
       "stream": "stdout",
       "text": [
        "Baker 1 2009-11-17      1223.0\n",
        "Baker 1 2010-06-24      1122.7\n",
        "Baker 2 2009-07-24      2819.0\n",
        "Baker 2 2010-08-25      2971.6\n",
        "Baker 1 2011-01-05      1410.0\n",
        "Baker 2 2010-09-04      4671.6\n",
        "Davison/May 23, 2010/1724.7\n",
        "Pertwee/May 24, 2010/2103.8\n",
        "Davison/June 19, 2010/1731.9\n",
        "Davison/July 6, 2010/2010.7\n",
        "Pertwee/Aug 4, 2010/1731.3\n",
        "Pertwee/Sept 3, 2010/4981.0\n"
       ]
      }
     ],
     "prompt_number": 17
    },
    {
     "cell_type": "code",
     "collapsed": false,
     "input": [
      "##To use regular expressions in Python we will use the re library\n",
      "import re\n",
      "\n",
      "##Loop through each item in readings\n",
      "for r in readings:\n",
      "    \n",
      "    ##Usage: re.search(pattern_to_search_for, string_to_search_in) \n",
      "    ##Here we search each item in readings for those that contain\n",
      "    ##the pattern '06'. If '06' is found then we print that item.\n",
      "    if re.search('06', r):\n",
      "        print r\n"
     ],
     "language": "python",
     "metadata": {},
     "outputs": [
      {
       "output_type": "stream",
       "stream": "stdout",
       "text": [
        "Baker 1 2010-06-24      1122.7\n"
       ]
      }
     ],
     "prompt_number": 16
    },
    {
     "cell_type": "code",
     "collapsed": false,
     "input": [
      "##Loop through each item in readings\n",
      "for r in readings:\n",
      "    \n",
      "    ##Usage: re.search(pattern_to_search_for, string_to_search_in) \n",
      "    ##Here we search each item in readings for those that contain\n",
      "    ##the pattern '06'. If '06' is found then we print that item.\n",
      "    if re.search('Aug', r):\n",
      "        print r"
     ],
     "language": "python",
     "metadata": {},
     "outputs": [
      {
       "output_type": "stream",
       "stream": "stdout",
       "text": [
        "Pertwee/Aug 4, 2010/1731.3\n"
       ]
      }
     ],
     "prompt_number": 18
    },
    {
     "cell_type": "code",
     "collapsed": false,
     "input": [],
     "language": "python",
     "metadata": {},
     "outputs": []
    },
    {
     "cell_type": "code",
     "collapsed": false,
     "input": [
      "##Loop through each item in readings\n",
      "for r in readings:\n",
      "    \n",
      "    ##Here we search each item in readings for those that contain\n",
      "    ##the pattern '06' OR '07'. If '06' OR '07' is found then we \n",
      "    ##print that item.\n",
      "    if re.search('06|07', r):\n",
      "        print r"
     ],
     "language": "python",
     "metadata": {},
     "outputs": [
      {
       "output_type": "stream",
       "stream": "stdout",
       "text": [
        "Baker 1 2010-06-24      1122.7\n",
        "Baker 2 2009-07-24      2819.0\n"
       ]
      }
     ],
     "prompt_number": 14
    },
    {
     "cell_type": "code",
     "collapsed": false,
     "input": [
      "##CHALLENGE!!\n",
      "\n",
      "##Print all records from the month of June"
     ],
     "language": "python",
     "metadata": {},
     "outputs": [],
     "prompt_number": 5
    },
    {
     "cell_type": "code",
     "collapsed": false,
     "input": [
      "##We will be trying to match a lot of patterns in\n",
      "##this lesson, so let's write a function\n",
      "##to tell us which records match a particular\n",
      "##pattern\n",
      "\n",
      "##Define the function\n",
      "def show_matches(pattern, strings):\n",
      "    \n",
      "    ##Loop through the given list of strings\n",
      "    for s in strings:\n",
      "        \n",
      "        ##If pattern matches a string in the list \n",
      "        ##print '**' beside it, if not, just print \n",
      "        ##'  ' (i.e. nothing, but we keep the spacing\n",
      "        ##nice and readable)\n",
      "        if re.search(pattern, s):\n",
      "            print '**', s\n",
      "        else:\n",
      "            print '  ', s\n",
      "\n",
      "##Call our function show_matches and ask it to tell \n",
      "##us which records contain '06' and '07' \n",
      "show_matches('06|07', readings)"
     ],
     "language": "python",
     "metadata": {},
     "outputs": [
      {
       "output_type": "stream",
       "stream": "stdout",
       "text": [
        "   Baker 1 2009-11-17      1223.0\n",
        "** Baker 1 2010-06-24      1122.7\n",
        "** Baker 2 2009-07-24      2819.0\n",
        "   Baker 2 2010-08-25      2971.6\n",
        "   Baker 1 2011-01-05      1410.0\n",
        "   Baker 2 2010-09-04      4671.6\n",
        "   Davison/May 23, 2010/1724.7\n",
        "   Pertwee/May 24, 2010/2103.8\n",
        "   Davison/June 19, 2010/1731.9\n",
        "   Davison/July 6, 2010/2010.7\n",
        "   Pertwee/Aug 4, 2010/1731.3\n",
        "   Pertwee/Sept 3, 2010/4981.0\n"
       ]
      }
     ],
     "prompt_number": 19
    },
    {
     "cell_type": "code",
     "collapsed": false,
     "input": [
      "##What happens if we try this:\n",
      "##show_matches('06|7', readings)\n",
      "##Will we get the same output? Try it!"
     ],
     "language": "python",
     "metadata": {},
     "outputs": [],
     "prompt_number": 21
    },
    {
     "cell_type": "code",
     "collapsed": false,
     "input": [
      "show_matches('06|7', readings)"
     ],
     "language": "python",
     "metadata": {},
     "outputs": [
      {
       "output_type": "stream",
       "stream": "stdout",
       "text": [
        "** Baker 1 2009-11-17      1223.0\n",
        "** Baker 1 2010-06-24      1122.7\n",
        "** Baker 2 2009-07-24      2819.0\n",
        "** Baker 2 2010-08-25      2971.6\n",
        "   Baker 1 2011-01-05      1410.0\n",
        "** Baker 2 2010-09-04      4671.6\n",
        "** Davison/May 23, 2010/1724.7\n",
        "   Pertwee/May 24, 2010/2103.8\n",
        "** Davison/June 19, 2010/1731.9\n",
        "** Davison/July 6, 2010/2010.7\n",
        "** Pertwee/Aug 4, 2010/1731.3\n",
        "   Pertwee/Sept 3, 2010/4981.0\n"
       ]
      }
     ],
     "prompt_number": 20
    },
    {
     "cell_type": "code",
     "collapsed": false,
     "input": [
      "##Order of operations is important \"0\" and \"6\" happens before \"06\" or \"7\"\n",
      "##Similar to mathmatics, we could force it using brackets\n",
      "\n",
      "show_matches('0(6|7)', readings)"
     ],
     "language": "python",
     "metadata": {},
     "outputs": [
      {
       "output_type": "stream",
       "stream": "stdout",
       "text": [
        "   Baker 1 2009-11-17      1223.0\n",
        "** Baker 1 2010-06-24      1122.7\n",
        "** Baker 2 2009-07-24      2819.0\n",
        "   Baker 2 2010-08-25      2971.6\n",
        "   Baker 1 2011-01-05      1410.0\n",
        "   Baker 2 2010-09-04      4671.6\n",
        "   Davison/May 23, 2010/1724.7\n",
        "   Pertwee/May 24, 2010/2103.8\n",
        "   Davison/June 19, 2010/1731.9\n",
        "   Davison/July 6, 2010/2010.7\n",
        "   Pertwee/Aug 4, 2010/1731.3\n",
        "   Pertwee/Sept 3, 2010/4981.0\n"
       ]
      }
     ],
     "prompt_number": 22
    },
    {
     "cell_type": "code",
     "collapsed": false,
     "input": [
      "##But in general show_matches('06|07', readings) is more readable, \n",
      "##and so we will stick with that"
     ],
     "language": "python",
     "metadata": {},
     "outputs": [],
     "prompt_number": 8
    },
    {
     "cell_type": "code",
     "collapsed": false,
     "input": [
      "##Now let's try to ask for records from the 5th month\n",
      "show_matches('05|May', readings)"
     ],
     "language": "python",
     "metadata": {},
     "outputs": [
      {
       "output_type": "stream",
       "stream": "stdout",
       "text": [
        "   Baker 1 2009-11-17      1223.0\n",
        "   Baker 1 2010-06-24      1122.7\n",
        "   Baker 2 2009-07-24      2819.0\n",
        "   Baker 2 2010-08-25      2971.6\n",
        "** Baker 1 2011-01-05      1410.0\n",
        "   Baker 2 2010-09-04      4671.6\n",
        "** Davison/May 23, 2010/1724.7\n",
        "** Pertwee/May 24, 2010/2103.8\n",
        "   Davison/June 19, 2010/1731.9\n",
        "   Davison/July 6, 2010/2010.7\n",
        "   Pertwee/Aug 4, 2010/1731.3\n",
        "   Pertwee/Sept 3, 2010/4981.0\n"
       ]
      }
     ],
     "prompt_number": 25
    },
    {
     "cell_type": "code",
     "collapsed": false,
     "input": [
      "##But \"Baker 1 2011-01-05      1410.0\" isn't from the 5th month,\n",
      "##it is from the 5th day... What went wrong here?\n",
      "\n",
      "##How might we fix it?\n",
      "\n",
      "##Answer - take advantage of context!!\n",
      "show_matches('-05-|May', readings)"
     ],
     "language": "python",
     "metadata": {},
     "outputs": [
      {
       "output_type": "stream",
       "stream": "stdout",
       "text": [
        "   Baker 1 2009-11-17      1223.0\n",
        "   Baker 1 2010-06-24      1122.7\n",
        "   Baker 2 2009-07-24      2819.0\n",
        "   Baker 2 2010-08-25      2971.6\n",
        "   Baker 1 2011-01-05      1410.0\n",
        "   Baker 2 2010-09-04      4671.6\n",
        "** Davison/May 23, 2010/1724.7\n",
        "** Pertwee/May 24, 2010/2103.8\n",
        "   Davison/June 19, 2010/1731.9\n",
        "   Davison/July 6, 2010/2010.7\n",
        "   Pertwee/Aug 4, 2010/1731.3\n",
        "   Pertwee/Sept 3, 2010/4981.0\n"
       ]
      }
     ],
     "prompt_number": 26
    },
    {
     "cell_type": "code",
     "collapsed": false,
     "input": [
      "##Matching is great, but what is even more useful is remembering\n",
      "##what we matched so we can extract the data!\n",
      "\n",
      "##re.search does this using parentheseses\n",
      "##When a regular expression matches, the library remembers\n",
      "##what matched against every parenthesized sub-expresssion"
     ],
     "language": "python",
     "metadata": {},
     "outputs": []
    },
    {
     "cell_type": "code",
     "collapsed": false,
     "input": [
      "##Let's extract the year from the first record\n",
      "\n",
      "##Here re.search returns a match object IF a match is found\n",
      "##Otherwise it returns None\n",
      "match = re.search('(2009|2010|2011)', 'Baker 1\\t2009-11-17\\t1223.0')\n",
      "\n",
      "##match.group(k) returns the kth subexpression in the regular expression\n",
      "##(inside the kth pair of parentheses, counting from the left)\n",
      "##Note - unlike other things in Python, k goes from 1 to N, not 0  to N-1 \n",
      "print match.group(1)"
     ],
     "language": "python",
     "metadata": {},
     "outputs": [
      {
       "output_type": "stream",
       "stream": "stdout",
       "text": [
        "2009\n"
       ]
      }
     ],
     "prompt_number": 28
    },
    {
     "cell_type": "code",
     "collapsed": false,
     "input": [
      "##What if we wanted to match the month, not the year, from the first record?\n",
      "\n",
      "##We could use | for OR again, such as\n",
      "match = re.search('(01|02|03|04|05|06|07|08|09|10|11|12)', 'Baker 1\\t2009-11-17\\t1223.0')\n",
      "\n",
      "print match.group(1)"
     ],
     "language": "python",
     "metadata": {},
     "outputs": [
      {
       "output_type": "stream",
       "stream": "stdout",
       "text": [
        "09\n"
       ]
      }
     ],
     "prompt_number": 31
    },
    {
     "cell_type": "code",
     "collapsed": false,
     "input": [
      "##But that is a LOT of typing!!! Isn't there a better way?\n",
      "\n",
      "##We can use '.' to match a single character\n",
      "\n",
      "##To extract the month, we can type:\n",
      "match = re.search('....-(..)-..', 'Baker 1\\t2009-11-17\\t1223.0')\n",
      "\n",
      "print match.group(1)"
     ],
     "language": "python",
     "metadata": {},
     "outputs": [
      {
       "output_type": "stream",
       "stream": "stdout",
       "text": [
        "11\n"
       ]
      }
     ],
     "prompt_number": 32
    },
    {
     "cell_type": "code",
     "collapsed": false,
     "input": [],
     "language": "python",
     "metadata": {},
     "outputs": []
    },
    {
     "cell_type": "code",
     "collapsed": false,
     "input": [
      "##As you might have imagined, we can use this to match and \n",
      "##extract several regular expressions\n",
      "\n",
      "##To extract the year, month, and day we can type:\n",
      "match = re.search('(....)-(..)-(..)', 'Baker 1\\t2009-11-17\\t1223.0')\n",
      "\n",
      "print match.group(1), match.group(2), match.group(3)"
     ],
     "language": "python",
     "metadata": {},
     "outputs": [
      {
       "output_type": "stream",
       "stream": "stdout",
       "text": [
        "2009 11 17\n"
       ]
      }
     ],
     "prompt_number": 33
    },
    {
     "cell_type": "code",
     "collapsed": false,
     "input": [
      "##CHALLENGE!!\n",
      "\n",
      "##Extract the Researcher's name and date (including the dashes) and print to screen\n",
      "##Baker 2009-11-17"
     ],
     "language": "python",
     "metadata": {},
     "outputs": [],
     "prompt_number": 3
    },
    {
     "cell_type": "code",
     "collapsed": false,
     "input": [
      "##Let's now try to break the first record of notebook-2.txt into \n",
      "##pieces\n",
      "\n",
      "print readings[6] "
     ],
     "language": "python",
     "metadata": {},
     "outputs": [
      {
       "output_type": "stream",
       "stream": "stdout",
       "text": [
        "Davison/May 23, 2010/1724.7\n"
       ]
      }
     ],
     "prompt_number": 35
    },
    {
     "cell_type": "code",
     "collapsed": false,
     "input": [
      "##To do this we can by using the '*' character\n",
      "##'*' is a postfix operator that means 0 or more\n",
      "match = re.search('(.*)/(.*)/(.*)', 'Davison/May 23, 2010/1724.7')\n",
      "\n",
      "print match.group(1)\n",
      "print match.group(2)\n",
      "print match.group(3)"
     ],
     "language": "python",
     "metadata": {},
     "outputs": [
      {
       "output_type": "stream",
       "stream": "stdout",
       "text": [
        "Davison\n",
        "May 23, 2010\n",
        "1724.7\n"
       ]
      }
     ],
     "prompt_number": 42
    },
    {
     "cell_type": "code",
     "collapsed": false,
     "input": [
      "##Let's test how well this works on a case we might not want \n",
      "##a match for (e.g. '//')\n",
      "\n",
      "match = re.search('(.*)/(.*)/(.*)', '//')\n",
      "\n",
      "print '*', match.group(1)\n",
      "print '*', match.group(2)\n",
      "print '*', match.group(3)"
     ],
     "language": "python",
     "metadata": {},
     "outputs": [
      {
       "output_type": "stream",
       "stream": "stdout",
       "text": [
        "* \n",
        "* \n",
        "* \n"
       ]
      }
     ],
     "prompt_number": 44
    },
    {
     "cell_type": "code",
     "collapsed": false,
     "input": [
      "##What is going on here? Why are we getting a false positive?\n",
      "\n",
      "##'.*' can match the empty string (zero characters) because of the '*'\n",
      "\n",
      "##So what can we do to prevent our pattern from recognizing badly \n",
      "##patterned data?\n",
      "\n",
      "##We can use '+' instead of '*'. '+' is a postfix operator which means 1 or more\n",
      "\n",
      "match = re.search('(.+)/(.+)/(.+)', '//')\n",
      "\n",
      "print '*', match.group(1)\n",
      "print '*', match.group(2)\n",
      "print '*', match.group(3)"
     ],
     "language": "python",
     "metadata": {},
     "outputs": [
      {
       "output_type": "stream",
       "stream": "stdout",
       "text": [
        "*"
       ]
      },
      {
       "ename": "AttributeError",
       "evalue": "'NoneType' object has no attribute 'group'",
       "output_type": "pyerr",
       "traceback": [
        "\u001b[0;31m---------------------------------------------------------------------------\u001b[0m\n\u001b[0;31mAttributeError\u001b[0m                            Traceback (most recent call last)",
        "\u001b[0;32m<ipython-input-45-69ec2f4ec1e9>\u001b[0m in \u001b[0;36m<module>\u001b[0;34m()\u001b[0m\n\u001b[1;32m     10\u001b[0m \u001b[0mmatch\u001b[0m \u001b[0;34m=\u001b[0m \u001b[0mre\u001b[0m\u001b[0;34m.\u001b[0m\u001b[0msearch\u001b[0m\u001b[0;34m(\u001b[0m\u001b[0;34m'(.+)/(.+)/(.+)'\u001b[0m\u001b[0;34m,\u001b[0m \u001b[0;34m'//'\u001b[0m\u001b[0;34m)\u001b[0m\u001b[0;34m\u001b[0m\u001b[0m\n\u001b[1;32m     11\u001b[0m \u001b[0;34m\u001b[0m\u001b[0m\n\u001b[0;32m---> 12\u001b[0;31m \u001b[0;32mprint\u001b[0m \u001b[0;34m'*'\u001b[0m\u001b[0;34m,\u001b[0m \u001b[0mmatch\u001b[0m\u001b[0;34m.\u001b[0m\u001b[0mgroup\u001b[0m\u001b[0;34m(\u001b[0m\u001b[0;36m1\u001b[0m\u001b[0;34m)\u001b[0m\u001b[0;34m\u001b[0m\u001b[0m\n\u001b[0m\u001b[1;32m     13\u001b[0m \u001b[0;32mprint\u001b[0m \u001b[0;34m'*'\u001b[0m\u001b[0;34m,\u001b[0m \u001b[0mmatch\u001b[0m\u001b[0;34m.\u001b[0m\u001b[0mgroup\u001b[0m\u001b[0;34m(\u001b[0m\u001b[0;36m2\u001b[0m\u001b[0;34m)\u001b[0m\u001b[0;34m\u001b[0m\u001b[0m\n\u001b[1;32m     14\u001b[0m \u001b[0;32mprint\u001b[0m \u001b[0;34m'*'\u001b[0m\u001b[0;34m,\u001b[0m \u001b[0mmatch\u001b[0m\u001b[0;34m.\u001b[0m\u001b[0mgroup\u001b[0m\u001b[0;34m(\u001b[0m\u001b[0;36m3\u001b[0m\u001b[0;34m)\u001b[0m\u001b[0;34m\u001b[0m\u001b[0m\n",
        "\u001b[0;31mAttributeError\u001b[0m: 'NoneType' object has no attribute 'group'"
       ]
      }
     ],
     "prompt_number": 45
    },
    {
     "cell_type": "code",
     "collapsed": false,
     "input": [
      "##We get an error because each match.group(k) holds the value None\n",
      "\n",
      "print re.search('(.+)/(.+)/(.+)', '//')"
     ],
     "language": "python",
     "metadata": {},
     "outputs": [
      {
       "output_type": "stream",
       "stream": "stdout",
       "text": [
        "None\n"
       ]
      }
     ],
     "prompt_number": 47
    },
    {
     "cell_type": "code",
     "collapsed": false,
     "input": [
      "##Now let's double check that this still works with our real data\n",
      "\n",
      "match = re.search('(.+)/(.+)/(.+)', 'Davison/May 23, 2010/1724.7')\n",
      "\n",
      "print match.group(1)\n",
      "print match.group(2)\n",
      "print match.group(3)"
     ],
     "language": "python",
     "metadata": {},
     "outputs": [
      {
       "output_type": "stream",
       "stream": "stdout",
       "text": [
        "Davison\n",
        "May 23, 2010\n",
        "1724.7\n"
       ]
      }
     ],
     "prompt_number": 48
    },
    {
     "cell_type": "code",
     "collapsed": false,
     "input": [
      "##Since we are going to be doing a lot of matching again, let's\n",
      "##write a function which will apply a pattern to a piece of text \n",
      "##and report if there is no match, OR IF there is a match, it\n",
      "##will print out all the groups in order\n",
      "\n",
      "##Function to show matched groups\n",
      "def show_groups(pattern, text):\n",
      "    \n",
      "    m = re.search(pattern, text)\n",
      "    \n",
      "    ##If no match is found (i.e. re.search returns 'None')\n",
      "    ##then we print 'No Match' and exit the function\n",
      "    if m is None:\n",
      "        print 'No Match'\n",
      "        return\n",
      "    \n",
      "    ##If there is a match, we print out the group number,\n",
      "    ##an arrow, and the string that matched the pattern.\n",
      "    ##This will be done for every parenthesized regular\n",
      "    ##expression in the pattern\n",
      "    for i in range(1, 1 + len(m.groups())):\n",
      "        print i, \"->\", m.group(i)\n",
      "\n",
      "show_groups('(.+)/(.+)/(.+)', 'Davison/May 23, 2010/1724.7')"
     ],
     "language": "python",
     "metadata": {},
     "outputs": [
      {
       "output_type": "stream",
       "stream": "stdout",
       "text": [
        "1 -> Davison\n",
        "2 -> May 23, 2010\n",
        "3 -> 1724.7\n"
       ]
      }
     ],
     "prompt_number": 52
    },
    {
     "cell_type": "code",
     "collapsed": false,
     "input": [
      "##Now, since we could break our record up into 3 parts, why not break up\n",
      "##the date while we are at it\n",
      "\n",
      "show_groups('(.+)/(.+) (.+), (.+)/(.+)', 'Davison/May 23, 2010/1724.7')"
     ],
     "language": "python",
     "metadata": {},
     "outputs": [
      {
       "output_type": "stream",
       "stream": "stdout",
       "text": [
        "1 -> Davison\n",
        "2 -> May\n",
        "3 -> 23\n",
        "4 -> 2010\n",
        "5 -> 1724.7\n"
       ]
      }
     ],
     "prompt_number": 53
    },
    {
     "cell_type": "code",
     "collapsed": false,
     "input": [
      "##What if we had an irregular record where a comma was forgotten?\n",
      "\n",
      "show_groups('(.+)/(.+) (.+), (.+)/(.+)', 'Davison/May 23 2010/1724.7')"
     ],
     "language": "python",
     "metadata": {},
     "outputs": [
      {
       "output_type": "stream",
       "stream": "stdout",
       "text": [
        "No Match\n"
       ]
      }
     ],
     "prompt_number": 54
    },
    {
     "cell_type": "code",
     "collapsed": false,
     "input": [
      "##How can we deal with such a case?\n",
      "\n",
      "##We can use the '?' postfix operator which means 0 or 1\n",
      "\n",
      "show_groups('(.+)/(.+) (.+),? (.+)/(.+)', 'Davison/May 23 2010/1724.7')"
     ],
     "language": "python",
     "metadata": {},
     "outputs": [
      {
       "output_type": "stream",
       "stream": "stdout",
       "text": [
        "1 -> Davison\n",
        "2 -> May\n",
        "3 -> 23\n",
        "4 -> 2010\n",
        "5 -> 1724.7\n"
       ]
      }
     ],
     "prompt_number": 55
    },
    {
     "cell_type": "code",
     "collapsed": false,
     "input": [
      "##Does this still work on data with a comma?\n",
      "\n",
      "show_groups('(.+)/(.+) (.+),? (.+)/(.+)', 'Davison/May 23, 2010/1724.7')"
     ],
     "language": "python",
     "metadata": {},
     "outputs": [
      {
       "output_type": "stream",
       "stream": "stdout",
       "text": [
        "1 -> Davison\n",
        "2 -> May\n",
        "3 -> 23,\n",
        "4 -> 2010\n",
        "5 -> 1724.7\n"
       ]
      }
     ],
     "prompt_number": 56
    },
    {
     "cell_type": "code",
     "collapsed": false,
     "input": [
      "##What if there was an entry error in the year? E.g. someone\n",
      "##wrote 201 instead of 2010 or 2011?\n",
      "\n",
      "show_groups('(.+)/(.+) (.+),? (.+)/(.+)', 'Davison/May 23, 201/1724.7')"
     ],
     "language": "python",
     "metadata": {},
     "outputs": [
      {
       "output_type": "stream",
       "stream": "stdout",
       "text": [
        "1 -> Davison\n",
        "2 -> May\n",
        "3 -> 23,\n",
        "4 -> 201\n",
        "5 -> 1724.7\n"
       ]
      }
     ],
     "prompt_number": 57
    },
    {
     "cell_type": "code",
     "collapsed": false,
     "input": [
      "##We probably don't want to match that. How might we fix this, any ideas? \n",
      "\n",
      "##Answer:\n",
      "show_groups('(.+)/(.+) (.+),? (....)/(.+)', 'Davison/May 23, 201/1724.7')"
     ],
     "language": "python",
     "metadata": {},
     "outputs": [
      {
       "output_type": "stream",
       "stream": "stdout",
       "text": [
        "No Match\n"
       ]
      }
     ],
     "prompt_number": 58
    },
    {
     "cell_type": "code",
     "collapsed": false,
     "input": [
      "##This isn't very readable (is there four, five, twenty dots there???)\n",
      "\n",
      "##We can use a {N} postfix operator to make this more readable:\n",
      "\n",
      "show_groups('(.+)/(.+) (.+),? (.{4})/(.+)', 'Davison/May 23, 201/1724.7')"
     ],
     "language": "python",
     "metadata": {},
     "outputs": [
      {
       "output_type": "stream",
       "stream": "stdout",
       "text": [
        "No Match\n"
       ]
      }
     ],
     "prompt_number": 59
    },
    {
     "cell_type": "code",
     "collapsed": false,
     "input": [
      "##CHALLENGE!!\n",
      "\n",
      "##Write a regular expression to match records with dates with one or two \n",
      "##digits but not > 2 (e.g. would match May 22 or May 2, but not May 222)\n",
      "\n",
      "##Hint to {M,N} matches from M to N times"
     ],
     "language": "python",
     "metadata": {},
     "outputs": [],
     "prompt_number": 2
    },
    {
     "cell_type": "code",
     "collapsed": false,
     "input": [
      "##Does our solution work on a record such as: 'Davison/May , 201/1724.7'?\n",
      "\n",
      "show_groups('(.+)/(.+) (.{1,2}),? (.{4})/(.+)', 'Davison/May , 2010/1724.7')"
     ],
     "language": "python",
     "metadata": {},
     "outputs": [
      {
       "output_type": "stream",
       "stream": "stdout",
       "text": [
        "1 -> Davison\n",
        "2 -> May\n",
        "3 -> ,\n",
        "4 -> 2010\n",
        "5 -> 1724.7\n"
       ]
      }
     ],
     "prompt_number": 65
    },
    {
     "cell_type": "code",
     "collapsed": false,
     "input": [
      "##Why does this return a match? Its because of the ',' matching .{1,2}\n",
      "##and the '?' postfix operator allowing for the presence or absence of \n",
      "##a comma.\n",
      "\n",
      "##We can fix this by limiting what type of characters are matched for the day\n",
      "##[...] matches characters in a set defined by the user\n",
      "\n",
      "show_groups('(.+)/(.+) ([0-9]{1,2}),? (.{4})/(.+)', 'Davison/May , 2010/1724.7')"
     ],
     "language": "python",
     "metadata": {},
     "outputs": [
      {
       "output_type": "stream",
       "stream": "stdout",
       "text": [
        "No Match\n"
       ]
      }
     ],
     "prompt_number": 66
    },
    {
     "cell_type": "code",
     "collapsed": false,
     "input": [
      "##This still works when our records have no unreasonable mistakes\n",
      "\n",
      "show_groups('(.+)/(.+) ([0-9]{1,2}),? (.{4})/(.+)', 'Davison/May 22, 2010/1724.7')"
     ],
     "language": "python",
     "metadata": {},
     "outputs": [
      {
       "output_type": "stream",
       "stream": "stdout",
       "text": [
        "1 -> Davison\n",
        "2 -> May\n",
        "3 -> 22\n",
        "4 -> 2010\n",
        "5 -> 1724.7\n"
       ]
      }
     ],
     "prompt_number": 67
    },
    {
     "cell_type": "code",
     "collapsed": false,
     "input": [
      "##Final matching pattern for records from notebook-2.txt:\n",
      "\n",
      "p = '(.+)/([A-Za-z]+) ([0-9]{1,2}),? ([0-9]{4})/(.+)'\n",
      "show_groups(p, 'Davison/May 22, 2010/1724.7')"
     ],
     "language": "python",
     "metadata": {},
     "outputs": [
      {
       "output_type": "stream",
       "stream": "stdout",
       "text": [
        "1 -> Davison\n",
        "2 -> May\n",
        "3 -> 22\n",
        "4 -> 2010\n",
        "5 -> 1724.7\n"
       ]
      }
     ],
     "prompt_number": 69
    },
    {
     "cell_type": "code",
     "collapsed": false,
     "input": [
      "##Now we have some tools to start to organize this data\n",
      "\n",
      "##Let's take a look at our data again\n",
      "##Loop through each item in readings and print it to the screen\n",
      "for r in readings:\n",
      "    print r"
     ],
     "language": "python",
     "metadata": {},
     "outputs": [
      {
       "output_type": "stream",
       "stream": "stdout",
       "text": [
        "Baker 1 2009-11-17      1223.0\n",
        "Baker 1 2010-06-24      1122.7\n",
        "Baker 2 2009-07-24      2819.0\n",
        "Baker 2 2010-08-25      2971.6\n",
        "Baker 1 2011-01-05      1410.0\n",
        "Baker 2 2010-09-04      4671.6\n",
        "Davison/May 23, 2010/1724.7\n",
        "Pertwee/May 24, 2010/2103.8\n",
        "Davison/June 19, 2010/1731.9\n",
        "Davison/July 6, 2010/2010.7\n",
        "Pertwee/Aug 4, 2010/1731.3\n",
        "Pertwee/Sept 3, 2010/4981.0\n"
       ]
      }
     ],
     "prompt_number": 71
    },
    {
     "cell_type": "code",
     "collapsed": false,
     "input": [
      "##Let's write a function that returns the date in the order Y, M, D\n",
      "##or none if there is no match\n",
      "\n",
      "def get_date(record):\n",
      "    '''Return (Y,M,D) as strings or None.'''\n",
      "    \n",
      "    #try re.search() for dates which looks like 2010-01-01\n",
      "    m = re.search('([0-9]{4})-([0-9]{2})-([0-9]{2})', record)\n",
      "    \n",
      "    ##test if re.search() returned a match from the above pattern\n",
      "    if m:\n",
      "        return m.group(1), m.group(2), m.group(3)\n",
      "    \n",
      "    ##if re.search() returned None from the above patterm\n",
      "    ##try the other pattern\n",
      "    m = re.search('/([A-Z][a-z]+) ([0-9]{1,2}),? ([0-9]{4})/', record)\n",
      "    \n",
      "    ##test if re.search() returned a match from the second pattern\n",
      "    if m:\n",
      "        return m.group(3), m.group(2), m.group(1)\n",
      "    \n",
      "    ##if neither pattern returned a match from re.search(), return None\n",
      "    return None\n",
      "\n",
      "##Let's apply this function to all our records in readings\n",
      "for r in readings:\n",
      "    print get_date(r)[0], get_date(r)[1], get_date(r)[2]"
     ],
     "language": "python",
     "metadata": {},
     "outputs": [
      {
       "output_type": "stream",
       "stream": "stdout",
       "text": [
        "2009 11 17\n",
        "2010 06 24\n",
        "2009 07 24\n",
        "2010 08 25\n",
        "2011 01 05\n",
        "2010 09 04\n",
        "2010 23 May\n",
        "2010 24 May\n",
        "2010 19 June\n",
        "2010 6 July\n",
        "2010 4 Aug\n",
        "2010 3 Sept\n"
       ]
      }
     ],
     "prompt_number": 105
    },
    {
     "cell_type": "code",
     "collapsed": false,
     "input": [
      "##This is how we would normally approach a problem like this, write a pattern\n",
      "##for each case and put them together in a function. This is easier and more\n",
      "##readable than trying to make a giagantic pattern that works for all cases."
     ],
     "language": "python",
     "metadata": {},
     "outputs": [],
     "prompt_number": 77
    },
    {
     "cell_type": "code",
     "collapsed": false,
     "input": [
      "##CHALLENGE!!\n",
      "\n",
      "##Modify the function to get all 3 fields (Researcher, Date, Measurement)\n",
      "##and put them in the same order (remember to list date as Y, M, D)\n",
      "\n",
      "##For an extra challenge, try to not include the experiment number (e.g.\n",
      "##get only 'Baker' not 'Baker 1')\n",
      "\n"
     ],
     "language": "python",
     "metadata": {},
     "outputs": [],
     "prompt_number": 1
    },
    {
     "cell_type": "code",
     "collapsed": false,
     "input": [],
     "language": "python",
     "metadata": {},
     "outputs": [],
     "prompt_number": 0
    },
    {
     "cell_type": "code",
     "collapsed": false,
     "input": [
      "##What if we wanted to extract multiple occurences of a pattern?\n",
      "##For example, if we wanted to know how many occurences of 'atg's \n",
      "##there are in a DNA sequence.\n",
      "\n",
      "DNA_sequence = 'atcccttatatatgggatcatttaatatacgtgtatgcaactatttaaaagcgatgggc'\n",
      "\n",
      "m = re.findall('atg', DNA_sequence)\n",
      "\n",
      "for i in range(0,len(m)):\n",
      "    print m[i]"
     ],
     "language": "python",
     "metadata": {},
     "outputs": [
      {
       "output_type": "stream",
       "stream": "stdout",
       "text": [
        "atg\n",
        "atg\n",
        "atg\n"
       ]
      }
     ],
     "prompt_number": 177
    },
    {
     "cell_type": "code",
     "collapsed": false,
     "input": [
      "##We can use more complicated regular expressions like we did before.\n",
      "##For example, if we want to know the 3 nucleotides that follow\n",
      "##each 'atg'\n",
      "\n",
      "m = re.findall('atg(.{3})', DNA_sequence)\n",
      "\n",
      "for i in range(0,len(m)):\n",
      "    print m[i]"
     ],
     "language": "python",
     "metadata": {},
     "outputs": [
      {
       "output_type": "stream",
       "stream": "stdout",
       "text": [
        "gga\n",
        "caa\n",
        "ggc\n"
       ]
      }
     ],
     "prompt_number": 178
    },
    {
     "cell_type": "code",
     "collapsed": false,
     "input": [
      "##Now, if we are going to be using the pattern over and over again, \n",
      "##we can compile it to save time:\n",
      "\n",
      "after_atg = re.compile('atg(.{3})')\n",
      "m = after_atg.findall(DNA_sequence)\n",
      "\n",
      "for i in range(0,len(m)):\n",
      "    print m[i]"
     ],
     "language": "python",
     "metadata": {},
     "outputs": [
      {
       "output_type": "stream",
       "stream": "stdout",
       "text": [
        "gga\n",
        "caa\n",
        "ggc\n"
       ]
      }
     ],
     "prompt_number": 179
    },
    {
     "cell_type": "code",
     "collapsed": false,
     "input": [],
     "language": "python",
     "metadata": {},
     "outputs": [],
     "prompt_number": 171
    },
    {
     "cell_type": "code",
     "collapsed": false,
     "input": [],
     "language": "python",
     "metadata": {},
     "outputs": []
    }
   ],
   "metadata": {}
  }
 ]
}